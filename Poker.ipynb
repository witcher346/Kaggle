{
 "cells": [
  {
   "cell_type": "code",
   "execution_count": 2,
   "metadata": {},
   "outputs": [],
   "source": [
    "import pandas as pd\n",
    "import numpy as np\n",
    "from sklearn.model_selection import train_test_split\n",
    "from sklearn.ensemble import RandomForestClassifier\n",
    "from sklearn.metrics import accuracy_score\n",
    "from sklearn.model_selection import RandomizedSearchCV"
   ]
  },
  {
   "cell_type": "code",
   "execution_count": 31,
   "metadata": {},
   "outputs": [],
   "source": [
    "df = pd.read_csv('train.csv')\n",
    "test_data = pd.read_csv('test.csv')\n"
   ]
  },
  {
   "cell_type": "code",
   "execution_count": 15,
   "metadata": {
    "scrolled": true
   },
   "outputs": [],
   "source": [
    "def concat_hand_value_count(data_set):\n",
    "    suit_counts = []\n",
    "    for i in range(0, 6):\n",
    "        each_counts = pd.concat([data_set.rank1_cnt == i,\n",
    "                                 data_set.rank2_cnt == i, \n",
    "                                 data_set.rank3_cnt == i, \n",
    "                                 data_set.rank4_cnt == i,\n",
    "                                 data_set.rank5_cnt == i,\n",
    "                                 data_set.rank6_cnt == i, \n",
    "                                 data_set.rank7_cnt == i, \n",
    "                                 data_set.rank8_cnt == i,\n",
    "                                 data_set.rank9_cnt == i,\n",
    "                                 data_set.rank10_cnt == i, \n",
    "                                 data_set.rank11_cnt == i, \n",
    "                                 data_set.rank12_cnt == i,\n",
    "                                 data_set.rank13_cnt == i,\n",
    "                                ], axis=1)\n",
    "        suit_counts.append(np.sum(each_counts, axis=1))\n",
    "    suit_counts = np.vstack(suit_counts)\n",
    "    suit_counts_df = pd.DataFrame(suit_counts.transpose(),\n",
    "                                  columns=['Card_Value_Count_{}'.format(i) for i in range(0,6)])\n",
    "    \n",
    "    return pd.concat([suit_counts_df, data_set], axis=1)\n",
    "        \n",
    "df['has_ace'] = df[['C1', 'C2', 'C3', 'C4', 'C5']].apply(lambda x: 1 if any(x) == 1 else 0, axis=1)\n"
   ]
  },
  {
   "cell_type": "code",
   "execution_count": 8,
   "metadata": {},
   "outputs": [
    {
     "data": {
      "text/plain": [
       "False"
      ]
     },
     "execution_count": 8,
     "metadata": {},
     "output_type": "execute_result"
    }
   ],
   "source": [
    "any(df[['C1', 'C2', 'C3', 'C4', 'C5']].iloc[0]) == 4"
   ]
  },
  {
   "cell_type": "code",
   "execution_count": 9,
   "metadata": {},
   "outputs": [],
   "source": [
    "from collections import Counter\n",
    "\n",
    "def count_cards(record, rank):\n",
    "    for key, count in Counter(record).items():\n",
    "        if key == rank:\n",
    "            return count"
   ]
  },
  {
   "cell_type": "code",
   "execution_count": 16,
   "metadata": {},
   "outputs": [],
   "source": [
    "for rank in range(1, 13+1):\n",
    "    df[f'rank{rank}_cnt']  = df[['C1', 'C2', 'C3', 'C4', 'C5']].apply(count_cards, rank=rank, axis=1)\n",
    "\n",
    "for suit in range(1, 4+1):\n",
    "    df[f'suit{suit}_cnt'] = df[['S1', 'S2', 'S3', 'S4', 'S5']].apply(count_cards, rank=suit, axis=1)\n",
    "\n",
    "df['card_std'] = np.std(df[['C1', 'C2', 'C3', 'C4', 'C5']])\n",
    "df = concat_hand_value_count(df)"
   ]
  },
  {
   "cell_type": "code",
   "execution_count": 17,
   "metadata": {},
   "outputs": [],
   "source": [
    "df = df.fillna(0)"
   ]
  },
  {
   "cell_type": "code",
   "execution_count": 18,
   "metadata": {},
   "outputs": [],
   "source": [
    "X_train, X_test, y_train, y_test = train_test_split(df.drop('hand', axis=1), df['hand'])"
   ]
  },
  {
   "cell_type": "code",
   "execution_count": 19,
   "metadata": {},
   "outputs": [
    {
     "name": "stdout",
     "output_type": "stream",
     "text": [
      "Training error: 0.9996801194220825\n",
      "Test error: 0.9937629937629938\n"
     ]
    }
   ],
   "source": [
    "forest = RandomForestClassifier(n_estimators=20)\n",
    "forest.fit(X_train, y_train)\n",
    "print(f'Training error: {accuracy_score(y_train, forest.predict(X_train))}')\n",
    "print(f'Test error: {accuracy_score(y_test, forest.predict(X_test))}')"
   ]
  },
  {
   "cell_type": "code",
   "execution_count": 20,
   "metadata": {},
   "outputs": [],
   "source": [
    "\n",
    "test_data['has_ace'] = test_data[['C1', 'C2', 'C3', 'C4', 'C5']].apply(lambda x: 1 if any(x) == 1 else 0, axis=1)\n",
    "\n",
    "for rank in range(1, 13+1):\n",
    "    test_data[f'rank{rank}_cnt']  = test_data[['C1', 'C2', 'C3', 'C4', 'C5']].apply(count_cards, rank=rank, axis=1)\n",
    "\n",
    "for suit in range(1, 4+1):\n",
    "    test_data[f'suit{suit}_cnt'] = test_data[['S1', 'S2', 'S3', 'S4', 'S5']].apply(count_cards, rank=suit, axis=1)\n",
    "\n",
    "test_data['card_std'] = np.std(test_data[['C1', 'C2', 'C3', 'C4', 'C5']])\n",
    "test_data = concat_hand_value_count(test_data)"
   ]
  },
  {
   "cell_type": "code",
   "execution_count": 28,
   "metadata": {},
   "outputs": [],
   "source": [
    "test_data = test_data.fillna(0)\n",
    "test_data['hand'] = forest.predict(test_data.drop('id', axis=1))"
   ]
  },
  {
   "cell_type": "code",
   "execution_count": 29,
   "metadata": {},
   "outputs": [],
   "source": [
    "test_data.set_index('id')[['hand']].to_csv('forest_submission.csv')"
   ]
  },
  {
   "cell_type": "code",
   "execution_count": 24,
   "metadata": {},
   "outputs": [
    {
     "data": {
      "text/plain": [
       "Index(['Card_Value_Count_0', 'Card_Value_Count_1', 'Card_Value_Count_2',\n",
       "       'Card_Value_Count_3', 'Card_Value_Count_4', 'Card_Value_Count_5', 'S1',\n",
       "       'C1', 'S2', 'C2', 'S3', 'C3', 'S4', 'C4', 'S5', 'C5', 'has_ace',\n",
       "       'suit1_cnt', 'suit2_cnt', 'suit3_cnt', 'suit4_cnt', 'card_std',\n",
       "       'rank1_cnt', 'rank2_cnt', 'rank3_cnt', 'rank4_cnt', 'rank5_cnt',\n",
       "       'rank6_cnt', 'rank7_cnt', 'rank8_cnt', 'rank9_cnt', 'rank10_cnt',\n",
       "       'rank11_cnt', 'rank12_cnt', 'rank13_cnt'],\n",
       "      dtype='object')"
      ]
     },
     "execution_count": 24,
     "metadata": {},
     "output_type": "execute_result"
    }
   ],
   "source": [
    "X_train.columns"
   ]
  },
  {
   "cell_type": "code",
   "execution_count": 32,
   "metadata": {},
   "outputs": [],
   "source": [
    "def pair(row):\n",
    "    cards = list(row[['C1', 'C2', 'C3', 'C4', 'C5']].values)\n",
    "    for card in cards:\n",
    "        if cards.count(card) == 2:\n",
    "            return True\n",
    "    return False\n",
    "\n",
    "def two_pair(row):\n",
    "    cards = list(row[['C1', 'C2', 'C3', 'C4', 'C5']].values)\n",
    "    for card in cards:\n",
    "        if cards.count(card) == 2:\n",
    "            cards.remove(card)\n",
    "            for second_pair in cards:\n",
    "                if cards.count(second_pair) == 2:\n",
    "                    return True\n",
    "    return False\n",
    "\n",
    "def three(row):\n",
    "    cards = list(row[['C1', 'C2', 'C3', 'C4', 'C5']].values)\n",
    "    for card in cards:\n",
    "        if cards.count(card) == 3:\n",
    "            return True\n",
    "    return False\n",
    "\n",
    "def straight(row):\n",
    "    cards = list(sorted(row[['C1', 'C2', 'C3', 'C4', 'C5']].values))\n",
    "    need_to_straight = [4, 3, 2, 1, 0]\n",
    "    straight_to_2 = [1, 10, 11, 12, 13]\n",
    "    last_card = cards[-1]\n",
    "    res = []\n",
    "    if cards == straight_to_2:\n",
    "        return True\n",
    "    for card in cards:\n",
    "        res.append(last_card - card)\n",
    "    if res == need_to_straight:\n",
    "        return True\n",
    "    return False\n",
    "\n",
    "def flush(row):\n",
    "    suits = list(row[['S1', 'S2', 'S3', 'S4', 'S5']].values)\n",
    "    if len(set(suits)) == 1:\n",
    "        return True\n",
    "    return False\n",
    "\n",
    "def full_house(row):\n",
    "    cards = list(row[['C1', 'C2', 'C3', 'C4', 'C5']].values)\n",
    "    for card in cards:\n",
    "        if cards.count(card) == 3:\n",
    "            check_full_house = list(filter(lambda x: x != card, cards))\n",
    "            for second_pair in check_full_house:\n",
    "                if check_full_house.count(second_pair) == 2:\n",
    "                    return True\n",
    "    return False\n",
    "\n",
    "def four_pair(row):\n",
    "    cards = list(row[['C1', 'C2', 'C3', 'C4', 'C5']].values)\n",
    "    for card in cards:\n",
    "        if cards.count(card) == 4:\n",
    "            return True\n",
    "    return False\n",
    "\n",
    "def straight_flush(row):\n",
    "    cards = list(sorted(row[['C1', 'C2', 'C3', 'C4', 'C5']].values))\n",
    "    suits = list(row[['S1', 'S2', 'S3', 'S4', 'S5']].values)\n",
    "    \n",
    "    need_to_straight = [4, 3, 2, 1, 0]\n",
    "    last_card = cards[-1]\n",
    "    res = []\n",
    "    \n",
    "    if len(set(suits)) == 1:\n",
    "        for card in cards:\n",
    "            res.append(last_card - card)\n",
    "        if res == need_to_straight:\n",
    "            return True\n",
    "    return False\n",
    "\n",
    "def royal(row):\n",
    "    cards = list(sorted(row[['C1', 'C2', 'C3', 'C4', 'C5']].values))\n",
    "    suits = list(row[['S1', 'S2', 'S3', 'S4', 'S5']].values)\n",
    "    \n",
    "    need_to_royal = [1, 10, 11, 12, 13]\n",
    "    \n",
    "    if cards == need_to_royal and len(set(suits)) == 1:\n",
    "        return True\n",
    "    return False"
   ]
  },
  {
   "cell_type": "code",
   "execution_count": 33,
   "metadata": {},
   "outputs": [],
   "source": [
    "def poker_combinations(row):\n",
    "    \"\"\"\n",
    "    This function converts information about card in dataset in number of combinations.\n",
    "    0 - no combinations; 1 - pair; 2 - two pair; 3 - three pair; 4 - straight;\n",
    "    5 - flush; 6 - full house; 7 - four pair; 8 - straight flush; 9 - royal flush\n",
    "\n",
    "    Apply this function to train and test dataframe\n",
    "    \"\"\"\n",
    "    if royal(row):\n",
    "        return 9\n",
    "    elif straight_flush(row):\n",
    "        return 8\n",
    "    elif four_pair(row):\n",
    "        return 7\n",
    "    elif full_house(row):\n",
    "        return 6\n",
    "    elif flush(row):\n",
    "        return 5\n",
    "    elif straight(row):\n",
    "        return 4\n",
    "    elif three(row):\n",
    "        return 3\n",
    "    elif two_pair(row):\n",
    "        return 2\n",
    "    elif pair(row):\n",
    "        return 1\n",
    "    else:\n",
    "        return 0"
   ]
  },
  {
   "cell_type": "code",
   "execution_count": 35,
   "metadata": {},
   "outputs": [],
   "source": [
    "df['prediction'] = df.apply(poker_combinations, axis=1)"
   ]
  },
  {
   "cell_type": "code",
   "execution_count": 37,
   "metadata": {},
   "outputs": [
    {
     "name": "stdout",
     "output_type": "stream",
     "text": [
      "Training error: 1.0\n"
     ]
    }
   ],
   "source": [
    "print(f'Training error: {accuracy_score(df[\"hand\"], df[\"prediction\"])}')"
   ]
  },
  {
   "cell_type": "code",
   "execution_count": 38,
   "metadata": {},
   "outputs": [],
   "source": [
    "test_data['hand'] = test_data.apply(poker_combinations, axis=1)\n",
    "test_data.set_index('id')[['hand']].to_csv('forest_submission.csv')"
   ]
  },
  {
   "cell_type": "code",
   "execution_count": null,
   "metadata": {},
   "outputs": [],
   "source": []
  }
 ],
 "metadata": {
  "kernelspec": {
   "display_name": "Python 3",
   "language": "python",
   "name": "python3"
  },
  "language_info": {
   "codemirror_mode": {
    "name": "ipython",
    "version": 3
   },
   "file_extension": ".py",
   "mimetype": "text/x-python",
   "name": "python",
   "nbconvert_exporter": "python",
   "pygments_lexer": "ipython3",
   "version": "3.6.1"
  }
 },
 "nbformat": 4,
 "nbformat_minor": 4
}
